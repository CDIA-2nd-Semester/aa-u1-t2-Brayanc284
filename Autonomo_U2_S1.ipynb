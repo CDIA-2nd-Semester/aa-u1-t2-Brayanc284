{
 "cells": [
  {
   "cell_type": "markdown",
   "id": "1992f637",
   "metadata": {},
   "source": [
    "Actividad autónoma U2-T1 (AA3)\n",
    "\n",
    "Brayan Cardenas\n",
    "\n",
    "\n"
   ]
  },
  {
   "cell_type": "markdown",
   "id": "b4e677e7",
   "metadata": {},
   "source": [
    "Objetivo de la actividad: Diseñar una solución orientada a objetos en \n",
    "Python que implemente desde cero el algoritmo K-Nearest Neighbors \n",
    "(KNN) para clasificar ejemplares del dataset penguins, analizando el \n",
    "efecto de distintos valores de k sobre la asignación de especie."
   ]
  },
  {
   "cell_type": "markdown",
   "id": "64aafd1d",
   "metadata": {},
   "source": [
    "Instrucciones:  \n",
    "Escenario: Clasificación de Pingüinos Antárticos        \n",
    "Un instituto de biología necesita un clasificador que, a partir de \n",
    "mediciones morfológicas de pingüinos, prediga su especie (Adelie, \n",
    "Chinstrap o Gentoo)."
   ]
  },
  {
   "cell_type": "code",
   "execution_count": 4,
   "id": "5e7f5a0b",
   "metadata": {},
   "outputs": [],
   "source": [
    "import pandas as pd\n",
    "import numpy as np\n",
    "from abc import ABC, abstractmethod\n",
    "\n",
    "class KNNBase(ABC):\n",
    "    \"\"\"Clase abstracta que define los métodos esenciales de KNN.\"\"\"\n",
    "\n",
    "    @abstractmethod\n",
    "    def fit(self, X, y):\n",
    "        \"\"\"Guarda los datos de entrenamiento.\"\"\"\n",
    "        pass\n",
    "\n",
    "    @abstractmethod\n",
    "    def predict(self, X_new, k=3):\n",
    "        \"\"\"Predice la clase de nuevos ejemplos usando KNN.\"\"\"\n",
    "        pass\n",
    "\n",
    "    @abstractmethod\n",
    "    def distance(self, p1, p2):\n",
    "        \"\"\"Calcula la distancia entre dos puntos.\"\"\"\n",
    "        pass\n",
    "\n",
    "class KNNClassifier(KNNBase):\n",
    "    def fit(self, X, y):\n",
    "        self.X_train = np.array(X)\n",
    "        self.y_train = np.array(y)\n",
    "\n",
    "    def predict(self, X_new, k=3):\n",
    "        X_new = np.array(X_new)\n",
    "        predictions = []\n",
    "        for x in X_new:\n",
    "            distances = [self.distance(x, x_train) for x_train in self.X_train]\n",
    "            idx_sorted = np.argsort(distances)\n",
    "            k_nearest = self.y_train[idx_sorted[:k]]\n",
    "            # Votación mayoritaria\n",
    "            values, counts = np.unique(k_nearest, return_counts=True)\n",
    "            predictions.append(values[np.argmax(counts)])\n",
    "        return predictions\n",
    "\n",
    "    def distance(self, p1, p2):\n",
    "        # Distancia Euclidiana\n",
    "        return np.sqrt(np.sum((p1 - p2) ** 2))\n",
    "\n",
    "# Ejemplo de uso:\n",
    "# Cargar datos (ajusta la ruta y columnas según tu dataset)\n",
    "# df = pd.read_csv('penguins.csv')\n",
    "# X = df[['bill_length_mm', 'bill_depth_mm', 'flipper_length_mm', 'body_mass_g']].values\n",
    "# y = df['species'].values\n",
    "\n",
    "# knn = KNNClassifier()\n",
    "# knn.fit(X, y)\n",
    "# predicciones = knn.predict([[40.1, 17.0, 185, 3700]], k=3)\n",
    "# print(predicciones)"
   ]
  }
 ],
 "metadata": {
  "kernelspec": {
   "display_name": "base",
   "language": "python",
   "name": "python3"
  },
  "language_info": {
   "codemirror_mode": {
    "name": "ipython",
    "version": 3
   },
   "file_extension": ".py",
   "mimetype": "text/x-python",
   "name": "python",
   "nbconvert_exporter": "python",
   "pygments_lexer": "ipython3",
   "version": "3.12.10"
  }
 },
 "nbformat": 4,
 "nbformat_minor": 5
}

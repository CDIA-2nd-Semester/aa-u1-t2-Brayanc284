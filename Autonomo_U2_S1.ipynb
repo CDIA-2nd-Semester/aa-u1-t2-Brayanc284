{
 "cells": [
  {
   "cell_type": "markdown",
   "id": "1992f637",
   "metadata": {},
   "source": [
    "**Actividad autónoma U2-T1 (AA3)**\n",
    "\n",
    "Brayan Cardenas\n",
    "\n",
    "\n"
   ]
  },
  {
   "cell_type": "markdown",
   "id": "b4e677e7",
   "metadata": {},
   "source": [
    "Objetivo de la actividad: Diseñar una solución orientada a objetos en \n",
    "Python que implemente desde cero el algoritmo K-Nearest Neighbors \n",
    "(KNN) para clasificar ejemplares del dataset penguins, analizando el \n",
    "efecto de distintos valores de k sobre la asignación de especie."
   ]
  },
  {
   "cell_type": "markdown",
   "id": "64aafd1d",
   "metadata": {},
   "source": [
    "Instrucciones:  \n",
    "Escenario: Clasificación de Pingüinos Antárticos        \n",
    "Un instituto de biología necesita un clasificador que, a partir de \n",
    "mediciones morfológicas de pingüinos, prediga su especie (Adelie, \n",
    "Chinstrap o Gentoo)."
   ]
  },
  {
   "cell_type": "code",
   "execution_count": 36,
   "id": "c0de02eb",
   "metadata": {},
   "outputs": [],
   "source": [
    "import numpy as np\n",
    "from abc import ABC\n"
   ]
  },
  {
   "cell_type": "markdown",
   "id": "0c36de3b",
   "metadata": {},
   "source": [
    "**Creacion la clase abstracta KNNBase**"
   ]
  },
  {
   "cell_type": "code",
   "execution_count": 37,
   "id": "2d09954d",
   "metadata": {},
   "outputs": [],
   "source": [
    "class KNNBase(ABC):\n",
    "    \n",
    "    @abstractmethod\n",
    "    def fit(self, X, y):\n",
    "        pass\n",
    "\n",
    "    @abstractmethod\n",
    "    def distance(self, p1, p2):\n",
    "        pass\n",
    "\n",
    "    @abstractmethod\n",
    "    def predict(self, X_new, k=3):\n",
    "        pass"
   ]
  },
  {
   "cell_type": "markdown",
   "id": "952cf887",
   "metadata": {},
   "source": [
    "**Creacion la clase KNNClassifier**"
   ]
  },
  {
   "cell_type": "code",
   "execution_count": 38,
   "id": "3ef90f36",
   "metadata": {},
   "outputs": [],
   "source": [
    "class KNNClassifier(KNNBase):\n",
    "    def __init__(self):\n",
    "        self.__X_train = None\n",
    "        self.__y_train = None\n",
    "\n",
    "    def fit(self, X, y):\n",
    "        self.__X_train = X\n",
    "        self.__y_train = y\n",
    "\n",
    "    def distance(self, p1, p2):\n",
    "        return np.sqrt(np.sum((p1 - p2)**2))\n",
    "\n",
    "    def predict(self, X_new, k=3):\n",
    "        predictions = []\n",
    "        for x in X_new:\n",
    "            distances = [self.distance(x, x_train) for x_train in self.__X_train]\n",
    "            indices = np.argsort(distances)[:k]\n",
    "            nearest_labels = [self.__y_train[i] for i in indices]\n",
    "            prediction = max(set(nearest_labels), key=nearest_labels.count)\n",
    "            predictions.append(prediction)\n",
    "        return predictions\n"
   ]
  },
  {
   "cell_type": "markdown",
   "id": "d021cf10",
   "metadata": {},
   "source": [
    "**Agregamos  sobrecarga de operadores**\n"
   ]
  },
  {
   "cell_type": "markdown",
   "id": "ab76f88d",
   "metadata": {},
   "source": [
    "__eq__ — igualdad de ejemplares\n"
   ]
  },
  {
   "cell_type": "code",
   "execution_count": 39,
   "id": "075bf0ea",
   "metadata": {},
   "outputs": [],
   "source": [
    "def __eq__(self, other):\n",
    "        return np.array_equal(self.__X_train, other.__X_train) and np.array_equal(self.__y_train, other.__y_train)\n"
   ]
  },
  {
   "cell_type": "markdown",
   "id": "86c1af54",
   "metadata": {},
   "source": [
    "__add__ — combinar dos clasificadores\n"
   ]
  },
  {
   "cell_type": "code",
   "execution_count": 40,
   "id": "187ef489",
   "metadata": {},
   "outputs": [],
   "source": [
    "def __add__(self, other):\n",
    "        X_combined = np.vstack((self.__X_train, other.__X_train))\n",
    "        y_combined = np.hstack((self.__y_train, other.__y_train))\n",
    "        combined = KNNClassifier()\n",
    "        combined.fit(X_combined, y_combined)\n",
    "        return combined\n"
   ]
  },
  {
   "cell_type": "markdown",
   "id": "e121c8b4",
   "metadata": {},
   "source": [
    "Representación de ejemplares __repr__\n"
   ]
  },
  {
   "cell_type": "code",
   "execution_count": 41,
   "id": "e786f158",
   "metadata": {},
   "outputs": [],
   "source": [
    "def __repr__(self):\n",
    "        return f\"KNNClassifier with {len(self.__X_train)} training samples\""
   ]
  },
  {
   "cell_type": "markdown",
   "id": "51e327c6",
   "metadata": {},
   "source": [
    "**Aplicacion**\n"
   ]
  },
  {
   "cell_type": "code",
   "execution_count": 42,
   "id": "09bed49f",
   "metadata": {},
   "outputs": [],
   "source": [
    "import numpy as np\n",
    "from abc import ABC, abstractmethod\n",
    "from sklearn.decomposition import PCA\n",
    "import matplotlib.pyplot as plt"
   ]
  },
  {
   "cell_type": "markdown",
   "id": "62a43b60",
   "metadata": {},
   "source": [
    "**Clase abstracta KNNBase**\n"
   ]
  },
  {
   "cell_type": "code",
   "execution_count": 43,
   "id": "a78a01aa",
   "metadata": {},
   "outputs": [],
   "source": [
    "class KNNBase(ABC):\n",
    "    @abstractmethod\n",
    "    def fit(self, X, y):\n",
    "        pass\n",
    "\n",
    "    @abstractmethod\n",
    "    def distance(self, p1, p2):\n",
    "        pass\n",
    "\n",
    "    @abstractmethod\n",
    "    def predict(self, X_new, k=3):\n",
    "        pass"
   ]
  },
  {
   "cell_type": "markdown",
   "id": "afeb0314",
   "metadata": {},
   "source": [
    "**Clase KNNClassifier**"
   ]
  },
  {
   "cell_type": "code",
   "execution_count": 51,
   "id": "8ce8be67",
   "metadata": {},
   "outputs": [],
   "source": [
    "class KNNClassifier(KNNBase):\n",
    "    def __init__(self):\n",
    "        self.__X_train = None\n",
    "        self.__y_train = None\n",
    "\n",
    "    def fit(self, X, y):\n",
    "        self.__X_train = X\n",
    "        self.__y_train = y\n",
    "\n",
    "    def distance(self, p1, p2):\n",
    "        return np.sqrt(np.sum((p1 - p2) ** 2))\n",
    "\n",
    "    def predict(self, X_new, k=3):\n",
    "        predictions = []\n",
    "        for x in X_new:\n",
    "            distances = [self.distance(x, x_train) for x_train in self.__X_train]\n",
    "            indices = np.argsort(distances)[:k]\n",
    "            nearest_labels = [self.__y_train[i] for i in indices]\n",
    "            prediction = max(set(nearest_labels), key=nearest_labels.count)\n",
    "            predictions.append(prediction)\n",
    "        return predictions\n",
    "    def __eq__(self, other):\n",
    "        return np.array_equal(self.__X_train, other.__X_train) and np.array_equal(self.__y_train, other.__y_train)\n",
    "\n",
    "    def __add__(self, other):\n",
    "        X_combined = np.vstack((self.__X_train, other.__X_train))\n",
    "        y_combined = np.hstack((self.__y_train, other.__y_train))\n",
    "        combined = KNNClassifier()\n",
    "        combined.fit(X_combined, y_combined)\n",
    "        return combined\n",
    "\n",
    "    def __repr__(self):\n",
    "        return f\"KNNClassifier with {len(self.__X_train)} training samples\"\n",
    "\n",
    "    def plot_neighbors(self, x_new, k=3):\n",
    "        from sklearn.decomposition import PCA\n",
    "        import matplotlib.pyplot as plt\n",
    "\n",
    "        distances = [self.distance(x_new[0], x) for x in self.__X_train]\n",
    "        indices = np.argsort(distances)[:k]\n",
    "\n",
    "        X_all = np.vstack([self.__X_train, x_new])\n",
    "        pca = PCA(n_components=2)\n",
    "        X_pca = pca.fit_transform(X_all)\n",
    "\n",
    "        # Graficar vecinos\n",
    "        for i, point in enumerate(X_pca[:-1]):\n",
    "            label = self.__y_train[i]\n",
    "            color = 'red' if label == 'Adelie' else 'green' if label == 'Gentoo' else 'blue'\n",
    "            marker = 'o' if i in indices else 'x'\n",
    "            plt.scatter(point[0], point[1], c=color, marker=marker, s=100, label=label if i in indices else \"\")\n",
    "\n",
    "        # Graficar el nuevo punto\n",
    "        plt.scatter(X_pca[-1, 0], X_pca[-1, 1], c='black', marker='*', s=200, label='Nuevo')\n",
    "        plt.title(f'{k} vecinos más cercanos')\n",
    "        plt.xlabel('Componente 1')\n",
    "        plt.ylabel('Componente 2')\n",
    "        plt.legend()\n",
    "        plt.grid(True)\n",
    "        plt.show()"
   ]
  },
  {
   "cell_type": "markdown",
   "id": "1397cf96",
   "metadata": {},
   "source": [
    "**Prueba con datos ficticios**"
   ]
  },
  {
   "cell_type": "code",
   "execution_count": 54,
   "id": "6dcceb9f",
   "metadata": {},
   "outputs": [
    {
     "name": "stdout",
     "output_type": "stream",
     "text": [
      "KNNClassifier with 4 training samples\n",
      "Predicción con k=1: Adelie\n",
      "Predicción con k=3: Adelie\n"
     ]
    },
    {
     "data": {
      "image/png": "[encoded data removed]",
      "text/plain": [
       "<Figure size 640x480 with 1 Axes>"
      ]
     },
     "metadata": {},
     "output_type": "display_data"
    }
   ],
   "source": [
    "# Entrenamiento: [largo del pico, profundidad del pico]\n",
    "X_train = np.array([\n",
    "    [40.1, 18.7],  # Adelie\n",
    "    [39.6, 17.8],  # Adelie\n",
    "    [46.5, 14.3],  # Gentoo\n",
    "    [45.8, 13.5]   # Gentoo\n",
    "])\n",
    "y_train = np.array(['Adelie', 'Adelie', 'Gentoo', 'Gentoo'])\n",
    "\n",
    "# Nuevo pingüino a clasificar\n",
    "X_nuevo = np.array([[42.0, 17.0]])\n",
    "\n",
    "# Crear modelo\n",
    "modelo = KNNClassifier()\n",
    "modelo.fit(X_train, y_train)\n",
    "\n",
    "# Ver modelo\n",
    "print(modelo)\n",
    "\n",
    "# Predicciones con diferentes k\n",
    "for k in [1, 3]:\n",
    "    pred = modelo.predict(X_nuevo, k=k)\n",
    "    print(f\"Predicción con k={k}: {pred[0]}\")\n",
    "\n",
    "# Mostrar gráfico del reto adicional\n",
    "modelo.plot_neighbors(X_nuevo, k=3)\n"
   ]
  }
 ],
 "metadata": {
  "kernelspec": {
   "display_name": "base",
   "language": "python",
   "name": "python3"
  },
  "language_info": {
   "codemirror_mode": {
    "name": "ipython",
    "version": 3
   },
   "file_extension": ".py",
   "mimetype": "text/x-python",
   "name": "python",
   "nbconvert_exporter": "python",
   "pygments_lexer": "ipython3",
   "version": "3.12.10"
  }
 },
 "nbformat": 4,
 "nbformat_minor": 5
}

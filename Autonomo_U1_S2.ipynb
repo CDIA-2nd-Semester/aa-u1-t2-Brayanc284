{
 "cells": [
  {
   "cell_type": "markdown",
   "id": "4dec5ac5",
   "metadata": {},
   "source": [
    "Actividad Autónoma 2 – Programación II (Vehículos Autónomos)\n",
    "\n",
    "Brayan Cardenas \n"
   ]
  },
  {
   "cell_type": "markdown",
   "id": "83b3ea83",
   "metadata": {},
   "source": [
    "Instrucciones:  \n",
    "\n",
    "Escenario: Sistema de Control de Vehículos Autónomos \n",
    "\n",
    "Una empresa de tecnología requiere un software que gestione una flota\n",
    "\n",
    "de vehículos autónomos de diferentes tipos: \n",
    "•Automóviles \n",
    "•Camiones \n",
    "•Motocicletas \n",
    "\n",
    "Todos los vehículos comparten ciertas características básicas \n",
    "\n",
    "(abstracción): \n",
    "\n",
    "• Identificador único \n",
    "• Modelo \n",
    "• Velocidad máxima \n",
    "• Capacidad de carga \n",
    "\n",
    "Además, cada tipo de vehículo tiene comportamientos específicos \n",
    "\n",
    "(herencia y polimorfismo), por ejemplo: \n",
    "\n",
    "• El camión puede engranar remolques. \n",
    "\n",
    "• La motocicleta puede realizar maniobras evasivas rápidas."
   ]
  },
  {
   "cell_type": "code",
   "execution_count": null,
   "id": "e62c4a0d",
   "metadata": {},
   "outputs": [],
   "source": [
    "from abc import ABC, abstractmethod\n",
    "from typing import List"
   ]
  },
  {
   "cell_type": "markdown",
   "id": "20c97542",
   "metadata": {},
   "source": [
    "1. Encapsulamiento:\n",
    "→ Los atributos internos del vehículo deben se privados oprotegidos \n",
    "→Usar getters y setters donde corresponda."
   ]
  },
  {
   "cell_type": "code",
   "execution_count": null,
   "id": "5b802b9e",
   "metadata": {},
   "outputs": [],
   "source": [
    "#Patrones de diseño\n",
    "class Estrategia_conduccion(ABC):\n",
    "    @abstractmethod\n",
    "    def conducir(self) -> str:\n",
    "        pass\n",
    "\n",
    "class Estrategia_economica(Estrategia_conduccion):\n",
    "    def conducir(self) -> str:\n",
    "        return \"Conduciendo de manera económica.\"\n",
    "    \n",
    "class Estrategia_deportiva(Estrategia_conduccion):\n",
    "    def conducir(self) -> str:\n",
    "        return \"Conduciendo de manera deportiva.\"\n",
    "\n",
    "class Estrategia_offroad(Estrategia_conduccion):\n",
    "    def conducir(self) -> str:\n",
    "        return \"Conduciendo de manera off-road.\"\n",
    "\n",
    "class Estrategia_emergencia(Estrategia_conduccion): #Punto Adicional\n",
    "    def conducir(self) -> str:\n",
    "        return \"Conduciendo de manera de emergencia.\""
   ]
  },
  {
   "cell_type": "code",
   "execution_count": null,
   "id": "54cc45e9",
   "metadata": {},
   "outputs": [],
   "source": [
    "#Clase Abatracta Vehiculo\n",
    "class Vehiculo(ABC):\n",
    "    def __init__(self, identificador, modelo, velocidad_maxima, capacidad_carga):\n",
    "        self.identificador = identificador\n",
    "        self.modelo = modelo\n",
    "        self.velocidad_maxima = velocidad_maxima\n",
    "        self.capacidad_carga = capacidad_carga\n",
    "        self.estrategia_conduccion: Estrategia_conduccion = None # Estrategia de conducción, por defecto "
   ]
  },
  {
   "cell_type": "code",
   "execution_count": null,
   "id": "13e78ba2",
   "metadata": {},
   "outputs": [],
   "source": [
    "# Getters y Setters\n",
    "def get_identificador(self):\n",
    "    return self.identificador\n",
    "\n",
    "def set_identificador(self, identificador):\n",
    "    self.identificador = identificador\n",
    "\n",
    "def get_modelo(self):\n",
    "    return self.modelo\n",
    "\n",
    "def set_modelo(self, modelo):\n",
    "    self.modelo = modelo\n",
    "\n",
    "def get_velocidad_maxima(self):\n",
    "    return self.velocidad_maxima\n",
    "\n",
    "def set_velocidad_maxima(self, velocidad_maxima):\n",
    "    self.velocidad_maxima = velocidad_maxima\n",
    "\n",
    "def get_capacidad_carga(self):\n",
    "    return self.capacidad_carga\n",
    "\n",
    "def set_capacidad_carga(self, capacidad_carga):\n",
    "    self.capacidad_carga = capacidad_carga"
   ]
  },
  {
   "cell_type": "markdown",
   "id": "c18b8ce9",
   "metadata": {},
   "source": [
    "2. Abstracción:\n",
    "Crear una clase abstracta Vehículo que declare métodos comunes como acelerar(), frenar() y informar_estado()."
   ]
  },
  {
   "cell_type": "code",
   "execution_count": null,
   "id": "a6d98a2c",
   "metadata": {},
   "outputs": [],
   "source": [
    "#Metodos comunes\n",
    "def acelerar(self):\n",
    "    pass\n",
    "\n",
    "def frenar(self):\n",
    "    pass\n",
    "\n",
    "def cambiar_estrategia_conduccion(self, estrategia: Estrategia_conduccion):\n",
    "    self.estrategia_conduccion = estrategia\n",
    "    self.estrategia_conduccion.conducir()"
   ]
  },
  {
   "cell_type": "markdown",
   "id": "c120a289",
   "metadata": {},
   "source": [
    "3. Herencia:\n",
    "Crear subclases específicas: Automóvil, Camión,Motocicleta, que extiendan Vehículo."
   ]
  },
  {
   "cell_type": "code",
   "execution_count": null,
   "id": "1c5beb3b",
   "metadata": {},
   "outputs": [],
   "source": [
    "#Subclases de Vehiculo\n",
    "class Automovil(Vehiculo):\n",
    "    def acelerar(self):\n",
    "        print(\"El automovil acelera.\")\n",
    "\n",
    "    def frenar(self):\n",
    "        print(\"El automovil frena.\")\n",
    "    \n",
    "    def informar_estado(self):\n",
    "        print(f\"Automóvil {self.get_modelo()} con velocidad máxima {self.get_velocidad_maxima()}.\")\n",
    "\n",
    "class Camion(Vehiculo):\n",
    "    def acelerar(self):\n",
    "        print(\"El camion acelera.\")\n",
    "\n",
    "    def frenar(self):\n",
    "        print(\"El camion frena.\")\n",
    "\n",
    "    def engranar_remolque(self):\n",
    "        print(\"Engranando el remolque.\")\n",
    "\n",
    "    def informar_estado(self):\n",
    "        print(f\"Camión {self.get_modelo()} con capacidad de carga {self.get_capacidad_carga()}.\")\n",
    "\n",
    "class Motocicleta(Vehiculo):\n",
    "    def acelerar(self):\n",
    "        print(\"La motocicleta acelera.\")\n",
    "\n",
    "    def frenar(self):\n",
    "        print(\"La motocicleta frena.\")\n",
    "\n",
    "    def maniobras_evasivas(self):\n",
    "        print(\"Realizando maniobras evasivas.\")\n",
    "    \n",
    "    def informar_estado(self):\n",
    "        print(f\"Motocicleta {self.get_modelo()} con velocidad máxima {self.get_velocidad_maxima()}.\")\n",
    "    "
   ]
  },
  {
   "cell_type": "code",
   "execution_count": null,
   "id": "ed00fc04",
   "metadata": {},
   "outputs": [],
   "source": [
    "#Decorador de fucionalidades\n",
    "class VehiculoDecorador(Vehiculo):\n",
    "    def __init__(self, vehiculo: Vehiculo):\n",
    "        self.vehiculo = vehiculo\n",
    "\n",
    "    def acelerar(self):\n",
    "        self.vehiculo.acelerar()\n",
    "\n",
    "    def frenar(self):\n",
    "        self.vehiculo.frenar()\n",
    "\n",
    "    def informar_estado(self):\n",
    "        self.vehiculo.informar_estado()\n",
    "\n",
    "class piloto_automatico_decorador(VehiculoDecorador):\n",
    "    def __init__(self, vehiculo: Vehiculo):\n",
    "        super().__init__(vehiculo)\n",
    "\n",
    "    def informar_estado(self):\n",
    "        super().informar_estado()\n",
    "        print(\"El vehículo está en piloto automático.\")\n",
    "    \n",
    "class Asistente_estacion_decorador(VehiculoDecorador):\n",
    "    def __init__(self, vehiculo: Vehiculo):\n",
    "        super().__init__(vehiculo)\n",
    "\n",
    "    def informar_estado(self):\n",
    "        super().informar_estado()\n",
    "        print(\"El vehículo tiene asistente de estacionamiento.\")\n",
    "    "
   ]
  },
  {
   "cell_type": "code",
   "execution_count": null,
   "id": "d6658b5b",
   "metadata": {},
   "outputs": [],
   "source": [
    "#Singleton Pattern\n",
    "class Control_Flota:\n",
    "    _instancia = None\n",
    "\n",
    "    def __new__(cls):\n",
    "        if cls._instancia is None:\n",
    "            cls._instancia = super(Control_Flota, cls).__new__(cls)\n",
    "            cls._instancia.vehiculos: List[Vehiculo] = []\n",
    "        return cls._instancia\n",
    "\n",
    "    def agregar_vehiculo(self, vehiculo: Vehiculo):\n",
    "        self.vehiculos.append(vehiculo)\n",
    "        print(f\"Vehículo {vehiculo.get_modelo()} agregado a la flota.\")\n",
    "\n",
    "    def eleminar_vehiculo(self, vehiculo: Vehiculo):\n",
    "        self.vehiculos.remove(vehiculo)\n",
    "        print(f\"Vehículo {vehiculo.get_modelo()} eliminado de la flota.\")"
   ]
  },
  {
   "cell_type": "code",
   "execution_count": null,
   "id": "cccb46b7",
   "metadata": {},
   "outputs": [],
   "source": [
    "#Sobrecarga de Operadores\n",
    "class Vehiculo:\n",
    "    #Sobrecargar el operador ==\n",
    "    def __add__(self, otro_vehiculo):\n",
    "        if isinstance(otro_vehiculo, Vehiculo):\n",
    "            return self.get_modelo() == otro_vehiculo.get_modelo() and self.get_velocidad_maxima() == otro_vehiculo.get_velocidad_maxima()\n",
    "        return False\n",
    "\n",
    "    \n",
    "#Sobrecargar el operador +\n",
    "def __add__(self, otro_vehiculo):\n",
    "    if isinstance(otro_vehiculo, Vehiculo):\n",
    "        Control_Flota().agregar_vehiculo(otro_vehiculo)\n",
    "        return self\n",
    "    return None\n"
   ]
  },
  {
   "cell_type": "code",
   "execution_count": 3,
   "id": "f0a61e97",
   "metadata": {},
   "outputs": [
    {
     "ename": "NameError",
     "evalue": "name 'Automovil' is not defined",
     "output_type": "error",
     "traceback": [
      "\u001b[31m---------------------------------------------------------------------------\u001b[39m",
      "\u001b[31mNameError\u001b[39m                                 Traceback (most recent call last)",
      "\u001b[36mCell\u001b[39m\u001b[36m \u001b[39m\u001b[32mIn[3]\u001b[39m\u001b[32m, line 4\u001b[39m\n\u001b[32m      1\u001b[39m \u001b[38;5;66;03m#Prueba de la implementación\u001b[39;00m\n\u001b[32m      2\u001b[39m \u001b[38;5;28;01mif\u001b[39;00m \u001b[34m__name__\u001b[39m == \u001b[33m\"\u001b[39m\u001b[33m__main__\u001b[39m\u001b[33m\"\u001b[39m:\n\u001b[32m      3\u001b[39m     \u001b[38;5;66;03m# Crear vehículos\u001b[39;00m\n\u001b[32m----> \u001b[39m\u001b[32m4\u001b[39m     auto1 = \u001b[43mAutomovil\u001b[49m(\u001b[33m\"\u001b[39m\u001b[33mA001\u001b[39m\u001b[33m\"\u001b[39m, \u001b[33m\"\u001b[39m\u001b[33mToyota Corolla\u001b[39m\u001b[33m\"\u001b[39m, \u001b[32m180\u001b[39m, \u001b[32m500\u001b[39m)\n\u001b[32m      5\u001b[39m     camion1 = Camion(\u001b[33m\"\u001b[39m\u001b[33mC001\u001b[39m\u001b[33m\"\u001b[39m, \u001b[33m\"\u001b[39m\u001b[33mVolvo FH16\u001b[39m\u001b[33m\"\u001b[39m, \u001b[32m120\u001b[39m, \u001b[32m15000\u001b[39m)\n\u001b[32m      6\u001b[39m     moto1 = Motocicleta(\u001b[33m\"\u001b[39m\u001b[33mM001\u001b[39m\u001b[33m\"\u001b[39m, \u001b[33m\"\u001b[39m\u001b[33mYamaha R1\u001b[39m\u001b[33m\"\u001b[39m, \u001b[32m299\u001b[39m, \u001b[32m0\u001b[39m)\n",
      "\u001b[31mNameError\u001b[39m: name 'Automovil' is not defined"
     ]
    }
   ],
   "source": [
    "#Prueba de la implementación\n",
    "if __name__ == \"__main__\":\n",
    "    # Crear vehículos\n",
    "    auto1 = Automovil(\"A001\", \"Toyota Corolla\", 180, 500)\n",
    "    camion1 = Camion(\"C001\", \"Volvo FH16\", 120, 15000)\n",
    "    moto1 = Motocicleta(\"M001\", \"Yamaha R1\", 299, 0)\n",
    "\n",
    "    # Cambiar estrategias de conducción\n",
    "    auto1.cambiar_estrategia(ConduccionDeportiva())\n",
    "    camion1.cambiar_estrategia(ConduccionOffRoad())\n",
    "\n",
    "    # Agregar decoradores\n",
    "    auto1_con_piloto = PilotoAutomaticoDecorator(auto1)\n",
    "    moto1_con_asistente = AsistenteEstacionamientoDecorator(moto1)\n",
    "\n",
    "    # Usar el singleton de ControlDeFlota\n",
    "    flota = ControlDeFlota()\n",
    "    flota.agregar_vehiculo(auto1)\n",
    "    flota.agregar_vehiculo(camion1)\n",
    "    flota.agregar_vehiculo(moto1)\n",
    "\n",
    "    # Comparar vehículos\n",
    "    print(auto1 == camion1)  # False\n",
    "    print(auto1 == Automovil(\"A001\", \"Toyota Corolla\", 180, 500))  # True\n",
    "\n",
    "    # Añadir vehículos a la flota\n",
    "    flota + auto1\n",
    "    flota + camion1\n",
    "    flota + moto1\n",
    "\n",
    "    # Informar estado\n",
    "    auto1_con_piloto.informar_estado()\n",
    "    moto1_con_asistente.informar_estado()"
   ]
  }
 ],
 "metadata": {
  "kernelspec": {
   "display_name": "base",
   "language": "python",
   "name": "python3"
  },
  "language_info": {
   "codemirror_mode": {
    "name": "ipython",
    "version": 3
   },
   "file_extension": ".py",
   "mimetype": "text/x-python",
   "name": "python",
   "nbconvert_exporter": "python",
   "pygments_lexer": "ipython3",
   "version": "3.12.10"
  }
 },
 "nbformat": 4,
 "nbformat_minor": 5
}
